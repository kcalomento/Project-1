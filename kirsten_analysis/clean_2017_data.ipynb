{
 "cells": [
  {
   "cell_type": "code",
   "execution_count": null,
   "metadata": {},
   "outputs": [],
   "source": [
    "# import necessary libraries\n",
    "import pandas as pd\n",
    "import matplotlib.pyplot as plt\n",
    "import seaborn as sns\n",
    "from sklearn.model_selection import train_test_split\n",
    "from sklearn.linear_model import LogisticRegression\n",
    "from sklearn.metrics import classification_report\n"
   ]
  },
  {
   "cell_type": "code",
   "execution_count": null,
   "metadata": {},
   "outputs": [],
   "source": [
    "# load the dataset\n",
    "data_2017 = pd.read_csv('data_2017.csv')\n",
    "\n",
    "# display the column names to verify and understand the data structure\n",
    "print(\"Columns in the dataset:\")\n",
    "print(data_2017.columns)\n"
   ]
  },
  {
   "cell_type": "code",
   "execution_count": null,
   "metadata": {},
   "outputs": [],
   "source": [
    "# drop unnecessary columns based on your requirements\n",
    "drop_cols = ['start_date_utc', 'submit_date_utc', 'network_id']\n",
    "data_2017.drop(columns=[col for col in drop_cols if col in data_2017.columns], inplace=True)\n"
   ]
  },
  {
   "cell_type": "code",
   "execution_count": null,
   "metadata": {},
   "outputs": [],
   "source": [
    "# fill missing values for object (string) columns only with 'Not Specified'\n",
    "data_2017[data_2017.select_dtypes(include=['object']).columns] = data_2017.select_dtypes(include=['object']).fillna('Not Specified')\n"
   ]
  },
  {
   "cell_type": "code",
   "execution_count": 106,
   "metadata": {},
   "outputs": [],
   "source": [
    "# standardize the gender column (ensure the column exists)\n",
    "if 'What is your gender?' in data_2017.columns:\n",
    "    data_2017['What is your gender?'] = data_2017['What is your gender?'].str.lower().replace({\n",
    "        'female': 'Female', 'male': 'Male', 'f': 'Female', 'm': 'Male', 'other': 'Other'\n",
    "    })\n",
    "else:\n",
    "    print(\"Gender column not found. Please verify the column name.\")\n"
   ]
  },
  {
   "cell_type": "code",
   "execution_count": null,
   "metadata": {},
   "outputs": [],
   "source": [
    "# convert yes/no columns to numeric where applicable\n",
    "yes_no_cols = [col for col in data_2017.columns if data_2017[col].astype(str).str.contains(r'\\bYes\\b|\\bNo\\b|\\bI don\\'t know\\b', case=False, na=False).any()]\n",
    "for col in yes_no_cols:\n",
    "    data_2017[col] = data_2017[col].astype(str).str.strip().replace({'Yes': 1, 'No': 0, \"I don't know\": -1})"
   ]
  },
  {
   "cell_type": "code",
   "execution_count": 97,
   "metadata": {},
   "outputs": [],
   "source": [
    "# map categorical responses to numeric values for analysis (e.g., work interference)\n",
    "interference_mapping = {\"Often\": 3, \"Sometimes\": 2, \"Rarely\": 1, \"Never\": 0}\n",
    "if 'work_interfere' in data_2017.columns:\n",
    "    data_2017['work_interfere'] = data_2017['work_interfere'].map(interference_mapping)\n"
   ]
  },
  {
   "cell_type": "code",
   "execution_count": 98,
   "metadata": {},
   "outputs": [],
   "source": [
    "# save the cleaned data\n",
    "data_2017.to_csv('cleaned_data_2017.csv', index=False)\n"
   ]
  },
  {
   "cell_type": "code",
   "execution_count": 107,
   "metadata": {},
   "outputs": [
    {
     "name": "stdout",
     "output_type": "stream",
     "text": [
      "Columns 'What is your gender?' or 'treatment' do not exist in the dataset.\n"
     ]
    }
   ],
   "source": [
    "# visualize mental health treatment by gender\n",
    "if 'What is your gender?' in data_2017.columns and 'treatment' in data_2017.columns:\n",
    "    plt.figure(figsize=(8, 6))\n",
    "    sns.countplot(x='What is your gender?', hue='treatment', data=data_2017, palette=\"pastel\")\n",
    "    plt.title(\"Mental Health Treatment by Gender\")\n",
    "    plt.xlabel(\"Gender\")\n",
    "    plt.ylabel(\"Count\")\n",
    "    plt.legend(title=\"Treatment\")\n",
    "    plt.show()\n",
    "else:\n",
    "    print(\"Columns 'What is your gender?' or 'treatment' do not exist in the dataset.\")\n",
    "\n"
   ]
  },
  {
   "cell_type": "code",
   "execution_count": null,
   "metadata": {},
   "outputs": [],
   "source": [
    "# one-hot encode categorical columns for modeling\n",
    "data_encoded = pd.get_dummies(data_2017, drop_first=True)\n",
    "\n"
   ]
  },
  {
   "cell_type": "code",
   "execution_count": 108,
   "metadata": {},
   "outputs": [
    {
     "ename": "KeyError",
     "evalue": "\"None of [Index(['What is your age',\\n       'if_you_have_a_mental_health_disorder_how_often_do_you_feel_that_it_interferes_with_your_work_when_not_being_treated_effectively_ie_when_you_are_experiencing_symptoms',\\n       'leave'],\\n      dtype='object')] are in the [columns]\"",
     "output_type": "error",
     "traceback": [
      "\u001b[1;31m---------------------------------------------------------------------------\u001b[0m",
      "\u001b[1;31mKeyError\u001b[0m                                  Traceback (most recent call last)",
      "Cell \u001b[1;32mIn[108], line 2\u001b[0m\n\u001b[0;32m      1\u001b[0m \u001b[38;5;66;03m# define the features (X) and the target (y) - adjust column names based on your dataset\u001b[39;00m\n\u001b[1;32m----> 2\u001b[0m X \u001b[38;5;241m=\u001b[39m data_encoded[[\u001b[38;5;124m'\u001b[39m\u001b[38;5;124mWhat is your age\u001b[39m\u001b[38;5;124m'\u001b[39m, \u001b[38;5;124m'\u001b[39m\u001b[38;5;124mif_you_have_a_mental_health_disorder_how_often_do_you_feel_that_it_interferes_with_your_work_when_not_being_treated_effectively_ie_when_you_are_experiencing_symptoms\u001b[39m\u001b[38;5;124m'\u001b[39m, \u001b[38;5;124m'\u001b[39m\u001b[38;5;124mleave\u001b[39m\u001b[38;5;124m'\u001b[39m]]\n\u001b[0;32m      3\u001b[0m y \u001b[38;5;241m=\u001b[39m data_encoded[\u001b[38;5;124m'\u001b[39m\u001b[38;5;124mmental_health_condition\u001b[39m\u001b[38;5;124m'\u001b[39m]\n",
      "File \u001b[1;32mc:\\Users\\kcalo\\anaconda3\\Lib\\site-packages\\pandas\\core\\frame.py:4108\u001b[0m, in \u001b[0;36mDataFrame.__getitem__\u001b[1;34m(self, key)\u001b[0m\n\u001b[0;32m   4106\u001b[0m     \u001b[38;5;28;01mif\u001b[39;00m is_iterator(key):\n\u001b[0;32m   4107\u001b[0m         key \u001b[38;5;241m=\u001b[39m \u001b[38;5;28mlist\u001b[39m(key)\n\u001b[1;32m-> 4108\u001b[0m     indexer \u001b[38;5;241m=\u001b[39m \u001b[38;5;28mself\u001b[39m\u001b[38;5;241m.\u001b[39mcolumns\u001b[38;5;241m.\u001b[39m_get_indexer_strict(key, \u001b[38;5;124m\"\u001b[39m\u001b[38;5;124mcolumns\u001b[39m\u001b[38;5;124m\"\u001b[39m)[\u001b[38;5;241m1\u001b[39m]\n\u001b[0;32m   4110\u001b[0m \u001b[38;5;66;03m# take() does not accept boolean indexers\u001b[39;00m\n\u001b[0;32m   4111\u001b[0m \u001b[38;5;28;01mif\u001b[39;00m \u001b[38;5;28mgetattr\u001b[39m(indexer, \u001b[38;5;124m\"\u001b[39m\u001b[38;5;124mdtype\u001b[39m\u001b[38;5;124m\"\u001b[39m, \u001b[38;5;28;01mNone\u001b[39;00m) \u001b[38;5;241m==\u001b[39m \u001b[38;5;28mbool\u001b[39m:\n",
      "File \u001b[1;32mc:\\Users\\kcalo\\anaconda3\\Lib\\site-packages\\pandas\\core\\indexes\\base.py:6200\u001b[0m, in \u001b[0;36mIndex._get_indexer_strict\u001b[1;34m(self, key, axis_name)\u001b[0m\n\u001b[0;32m   6197\u001b[0m \u001b[38;5;28;01melse\u001b[39;00m:\n\u001b[0;32m   6198\u001b[0m     keyarr, indexer, new_indexer \u001b[38;5;241m=\u001b[39m \u001b[38;5;28mself\u001b[39m\u001b[38;5;241m.\u001b[39m_reindex_non_unique(keyarr)\n\u001b[1;32m-> 6200\u001b[0m \u001b[38;5;28mself\u001b[39m\u001b[38;5;241m.\u001b[39m_raise_if_missing(keyarr, indexer, axis_name)\n\u001b[0;32m   6202\u001b[0m keyarr \u001b[38;5;241m=\u001b[39m \u001b[38;5;28mself\u001b[39m\u001b[38;5;241m.\u001b[39mtake(indexer)\n\u001b[0;32m   6203\u001b[0m \u001b[38;5;28;01mif\u001b[39;00m \u001b[38;5;28misinstance\u001b[39m(key, Index):\n\u001b[0;32m   6204\u001b[0m     \u001b[38;5;66;03m# GH 42790 - Preserve name from an Index\u001b[39;00m\n",
      "File \u001b[1;32mc:\\Users\\kcalo\\anaconda3\\Lib\\site-packages\\pandas\\core\\indexes\\base.py:6249\u001b[0m, in \u001b[0;36mIndex._raise_if_missing\u001b[1;34m(self, key, indexer, axis_name)\u001b[0m\n\u001b[0;32m   6247\u001b[0m \u001b[38;5;28;01mif\u001b[39;00m nmissing:\n\u001b[0;32m   6248\u001b[0m     \u001b[38;5;28;01mif\u001b[39;00m nmissing \u001b[38;5;241m==\u001b[39m \u001b[38;5;28mlen\u001b[39m(indexer):\n\u001b[1;32m-> 6249\u001b[0m         \u001b[38;5;28;01mraise\u001b[39;00m \u001b[38;5;167;01mKeyError\u001b[39;00m(\u001b[38;5;124mf\u001b[39m\u001b[38;5;124m\"\u001b[39m\u001b[38;5;124mNone of [\u001b[39m\u001b[38;5;132;01m{\u001b[39;00mkey\u001b[38;5;132;01m}\u001b[39;00m\u001b[38;5;124m] are in the [\u001b[39m\u001b[38;5;132;01m{\u001b[39;00maxis_name\u001b[38;5;132;01m}\u001b[39;00m\u001b[38;5;124m]\u001b[39m\u001b[38;5;124m\"\u001b[39m)\n\u001b[0;32m   6251\u001b[0m     not_found \u001b[38;5;241m=\u001b[39m \u001b[38;5;28mlist\u001b[39m(ensure_index(key)[missing_mask\u001b[38;5;241m.\u001b[39mnonzero()[\u001b[38;5;241m0\u001b[39m]]\u001b[38;5;241m.\u001b[39munique())\n\u001b[0;32m   6252\u001b[0m     \u001b[38;5;28;01mraise\u001b[39;00m \u001b[38;5;167;01mKeyError\u001b[39;00m(\u001b[38;5;124mf\u001b[39m\u001b[38;5;124m\"\u001b[39m\u001b[38;5;132;01m{\u001b[39;00mnot_found\u001b[38;5;132;01m}\u001b[39;00m\u001b[38;5;124m not in index\u001b[39m\u001b[38;5;124m\"\u001b[39m)\n",
      "\u001b[1;31mKeyError\u001b[0m: \"None of [Index(['What is your age',\\n       'if_you_have_a_mental_health_disorder_how_often_do_you_feel_that_it_interferes_with_your_work_when_not_being_treated_effectively_ie_when_you_are_experiencing_symptoms',\\n       'leave'],\\n      dtype='object')] are in the [columns]\""
     ]
    }
   ],
   "source": [
    "# define the features (X) and the target (y) - adjust column names based on your dataset\n",
    "X = data_encoded[['What is your age', 'if_you_have_a_mental_health_disorder_how_often_do_you_feel_that_it_interferes_with_your_work_when_not_being_treated_effectively_ie_when_you_are_experiencing_symptoms', 'leave']]\n",
    "y = data_encoded['mental_health_condition']  # adjust if 'treatment' was split into multiple columns\n",
    "\n"
   ]
  }
 ],
 "metadata": {
  "kernelspec": {
   "display_name": "base",
   "language": "python",
   "name": "python3"
  },
  "language_info": {
   "codemirror_mode": {
    "name": "ipython",
    "version": 3
   },
   "file_extension": ".py",
   "mimetype": "text/x-python",
   "name": "python",
   "nbconvert_exporter": "python",
   "pygments_lexer": "ipython3",
   "version": "3.12.4"
  }
 },
 "nbformat": 4,
 "nbformat_minor": 2
}
